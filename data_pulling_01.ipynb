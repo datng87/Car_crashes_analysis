{
 "cells": [
  {
   "cell_type": "code",
   "execution_count": 1,
   "metadata": {},
   "outputs": [],
   "source": [
    "import json\n",
    "import string\n",
    "import requests\n",
    "from requests.exceptions import Timeout\n",
    "from pprint import pprint\n",
    "import numpy as np\n",
    "import matplotlib.pyplot as plt\n",
    "import pandas as pd\n",
    "from datetime import datetime\n",
    "from scipy.stats import linregress\n",
    "import io\n"
   ]
  },
  {
   "cell_type": "code",
   "execution_count": 2,
   "metadata": {},
   "outputs": [
    {
     "name": "stdout",
     "output_type": "stream",
     "text": [
      "2010\n",
      "2011\n",
      "2012\n",
      "2013\n"
     ]
    },
    {
     "name": "stderr",
     "output_type": "stream",
     "text": [
      "c:\\Users\\datqu\\anaconda3\\envs\\bootcamp\\lib\\site-packages\\IPython\\core\\interactiveshell.py:3457: DtypeWarning: Columns (40,42) have mixed types.Specify dtype option on import or set low_memory=False.\n",
      "  exec(code_obj, self.user_global_ns, self.user_ns)\n"
     ]
    },
    {
     "name": "stdout",
     "output_type": "stream",
     "text": [
      "2014\n",
      "2015\n"
     ]
    },
    {
     "name": "stderr",
     "output_type": "stream",
     "text": [
      "c:\\Users\\datqu\\anaconda3\\envs\\bootcamp\\lib\\site-packages\\IPython\\core\\interactiveshell.py:3457: DtypeWarning: Columns (40,42,71) have mixed types.Specify dtype option on import or set low_memory=False.\n",
      "  exec(code_obj, self.user_global_ns, self.user_ns)\n"
     ]
    },
    {
     "name": "stdout",
     "output_type": "stream",
     "text": [
      "2016\n",
      "2017\n",
      "2018\n",
      "2019\n",
      "2020\n",
      "2021\n",
      "2010\n",
      "2011\n",
      "2012\n",
      "2013\n",
      "2014\n",
      "2015\n",
      "2016\n",
      "2017\n",
      "2018\n",
      "2019\n",
      "2020\n",
      "2021\n",
      "2010\n"
     ]
    },
    {
     "name": "stderr",
     "output_type": "stream",
     "text": [
      "c:\\Users\\datqu\\anaconda3\\envs\\bootcamp\\lib\\site-packages\\IPython\\core\\interactiveshell.py:3457: DtypeWarning: Columns (17) have mixed types.Specify dtype option on import or set low_memory=False.\n",
      "  exec(code_obj, self.user_global_ns, self.user_ns)\n"
     ]
    },
    {
     "name": "stdout",
     "output_type": "stream",
     "text": [
      "2011\n",
      "2012\n",
      "2013\n",
      "2014\n",
      "2015\n"
     ]
    },
    {
     "name": "stderr",
     "output_type": "stream",
     "text": [
      "c:\\Users\\datqu\\anaconda3\\envs\\bootcamp\\lib\\site-packages\\IPython\\core\\interactiveshell.py:3457: DtypeWarning: Columns (17,32) have mixed types.Specify dtype option on import or set low_memory=False.\n",
      "  exec(code_obj, self.user_global_ns, self.user_ns)\n"
     ]
    },
    {
     "name": "stdout",
     "output_type": "stream",
     "text": [
      "2016\n",
      "2017\n",
      "2018\n",
      "2019\n",
      "2020\n",
      "2021\n",
      "2010\n"
     ]
    },
    {
     "name": "stderr",
     "output_type": "stream",
     "text": [
      "c:\\Users\\datqu\\anaconda3\\envs\\bootcamp\\lib\\site-packages\\IPython\\core\\interactiveshell.py:3457: DtypeWarning: Columns (7,14,69,71) have mixed types.Specify dtype option on import or set low_memory=False.\n",
      "  exec(code_obj, self.user_global_ns, self.user_ns)\n"
     ]
    },
    {
     "name": "stdout",
     "output_type": "stream",
     "text": [
      "2011\n"
     ]
    },
    {
     "name": "stderr",
     "output_type": "stream",
     "text": [
      "c:\\Users\\datqu\\anaconda3\\envs\\bootcamp\\lib\\site-packages\\IPython\\core\\interactiveshell.py:3457: DtypeWarning: Columns (7,69,71) have mixed types.Specify dtype option on import or set low_memory=False.\n",
      "  exec(code_obj, self.user_global_ns, self.user_ns)\n"
     ]
    },
    {
     "name": "stdout",
     "output_type": "stream",
     "text": [
      "2012\n"
     ]
    },
    {
     "name": "stderr",
     "output_type": "stream",
     "text": [
      "c:\\Users\\datqu\\anaconda3\\envs\\bootcamp\\lib\\site-packages\\IPython\\core\\interactiveshell.py:3457: DtypeWarning: Columns (69,71) have mixed types.Specify dtype option on import or set low_memory=False.\n",
      "  exec(code_obj, self.user_global_ns, self.user_ns)\n"
     ]
    },
    {
     "name": "stdout",
     "output_type": "stream",
     "text": [
      "2013\n",
      "2014\n"
     ]
    },
    {
     "name": "stderr",
     "output_type": "stream",
     "text": [
      "c:\\Users\\datqu\\anaconda3\\envs\\bootcamp\\lib\\site-packages\\IPython\\core\\interactiveshell.py:3457: DtypeWarning: Columns (7,14,42,69,71) have mixed types.Specify dtype option on import or set low_memory=False.\n",
      "  exec(code_obj, self.user_global_ns, self.user_ns)\n"
     ]
    },
    {
     "name": "stdout",
     "output_type": "stream",
     "text": [
      "2015\n"
     ]
    },
    {
     "name": "stderr",
     "output_type": "stream",
     "text": [
      "c:\\Users\\datqu\\anaconda3\\envs\\bootcamp\\lib\\site-packages\\IPython\\core\\interactiveshell.py:3457: DtypeWarning: Columns (14,69,71) have mixed types.Specify dtype option on import or set low_memory=False.\n",
      "  exec(code_obj, self.user_global_ns, self.user_ns)\n"
     ]
    },
    {
     "name": "stdout",
     "output_type": "stream",
     "text": [
      "2016\n"
     ]
    },
    {
     "name": "stderr",
     "output_type": "stream",
     "text": [
      "c:\\Users\\datqu\\anaconda3\\envs\\bootcamp\\lib\\site-packages\\IPython\\core\\interactiveshell.py:3457: DtypeWarning: Columns (14,59,61,69,71) have mixed types.Specify dtype option on import or set low_memory=False.\n",
      "  exec(code_obj, self.user_global_ns, self.user_ns)\n"
     ]
    },
    {
     "name": "stdout",
     "output_type": "stream",
     "text": [
      "2017\n"
     ]
    },
    {
     "name": "stderr",
     "output_type": "stream",
     "text": [
      "c:\\Users\\datqu\\anaconda3\\envs\\bootcamp\\lib\\site-packages\\IPython\\core\\interactiveshell.py:3457: DtypeWarning: Columns (14,59,61) have mixed types.Specify dtype option on import or set low_memory=False.\n",
      "  exec(code_obj, self.user_global_ns, self.user_ns)\n"
     ]
    },
    {
     "name": "stdout",
     "output_type": "stream",
     "text": [
      "2018\n",
      "2019\n"
     ]
    },
    {
     "name": "stderr",
     "output_type": "stream",
     "text": [
      "c:\\Users\\datqu\\anaconda3\\envs\\bootcamp\\lib\\site-packages\\IPython\\core\\interactiveshell.py:3457: DtypeWarning: Columns (59,61,69,71) have mixed types.Specify dtype option on import or set low_memory=False.\n",
      "  exec(code_obj, self.user_global_ns, self.user_ns)\n"
     ]
    },
    {
     "name": "stdout",
     "output_type": "stream",
     "text": [
      "2020\n",
      "2021\n",
      "2010\n",
      "2011\n",
      "2012\n",
      "2013\n",
      "2014\n",
      "2015\n",
      "2016\n",
      "2017\n",
      "2018\n",
      "2019\n",
      "2020\n",
      "2021\n"
     ]
    }
   ],
   "source": [
    "######get datasets to explore \n",
    "dataset = ['ACCIDENT','DISTRACT','PERSON','VEHICLE','VIOLATION']\n",
    "baseurl = 'https://crashviewer.nhtsa.dot.gov/CrashAPI/FARSData/GetFARSData'\n",
    "\n",
    "for x in dataset:\n",
    "    yearloop = 2010\n",
    "    params = {'states':'1,51',\n",
    "            'FromYear':yearloop,\n",
    "            'ToYear':yearloop,\n",
    "            'dataset':x,\n",
    "            'format':'csv'}\n",
    "    for i in range (12):\n",
    "        #wait up to 70 seconds for responding data\n",
    "        try:\n",
    "            response = requests.get(baseurl,params=params,timeout=(10,70))\n",
    "        except Timeout:\n",
    "            print('The request timed out')\n",
    "\n",
    "        if response.status_code !=200:\n",
    "            print('There is error')\n",
    "        else:\n",
    "            #get response as CSV\n",
    "            response.encoding = response.apparent_encoding\n",
    "            #get data in string\n",
    "            content = response.text\n",
    "            print(yearloop)\n",
    "            #convert string to pandas dataframe\n",
    "            temp_data = pd.read_csv(io.StringIO(content))\n",
    "            if i ==0:\n",
    "                #save data to fatality_data if 1st data\n",
    "                fatality_data = pd.read_csv(io.StringIO(content))           \n",
    "            else:\n",
    "                #append 2nd data point on ward to fatality_data\n",
    "                temp_data = pd.read_csv(io.StringIO(content))\n",
    "                fatality_data = pd.concat([fatality_data,temp_data],ignore_index=True) \n",
    "        #update parameter for next year\n",
    "        yearloop += 1\n",
    "        params = {'states':'1,51',\n",
    "            'FromYear':yearloop,\n",
    "            'ToYear':yearloop,\n",
    "            'dataset':x,\n",
    "            'format':'csv'}\n",
    "\n",
    "    #export final data to csv\n",
    "    fatality_data.to_csv(f'data/{x}.csv',index=False)"
   ]
  },
  {
   "cell_type": "code",
   "execution_count": 3,
   "metadata": {},
   "outputs": [
    {
     "name": "stderr",
     "output_type": "stream",
     "text": [
      "c:\\Users\\datqu\\anaconda3\\envs\\bootcamp\\lib\\site-packages\\IPython\\core\\interactiveshell.py:3457: DtypeWarning: Columns (28,30,32,58,64,66,86,88,90) have mixed types.Specify dtype option on import or set low_memory=False.\n",
      "  exec(code_obj, self.user_global_ns, self.user_ns)\n"
     ]
    },
    {
     "data": {
      "text/html": [
       "<div>\n",
       "<style scoped>\n",
       "    .dataframe tbody tr th:only-of-type {\n",
       "        vertical-align: middle;\n",
       "    }\n",
       "\n",
       "    .dataframe tbody tr th {\n",
       "        vertical-align: top;\n",
       "    }\n",
       "\n",
       "    .dataframe thead th {\n",
       "        text-align: right;\n",
       "    }\n",
       "</style>\n",
       "<table border=\"1\" class=\"dataframe\">\n",
       "  <thead>\n",
       "    <tr style=\"text-align: right;\">\n",
       "      <th></th>\n",
       "      <th>caseyear</th>\n",
       "      <th>st_case</th>\n",
       "      <th>statename</th>\n",
       "      <th>latitude</th>\n",
       "      <th>longitud</th>\n",
       "      <th>fatals</th>\n",
       "      <th>lgt_condname</th>\n",
       "      <th>drunk_dr</th>\n",
       "      <th>fatals</th>\n",
       "      <th>day_weekname</th>\n",
       "      <th>day_week</th>\n",
       "      <th>hour</th>\n",
       "    </tr>\n",
       "  </thead>\n",
       "  <tbody>\n",
       "    <tr>\n",
       "      <th>0</th>\n",
       "      <td>2010</td>\n",
       "      <td>10001</td>\n",
       "      <td>Alabama</td>\n",
       "      <td>32.641064</td>\n",
       "      <td>-85.354692</td>\n",
       "      <td>1</td>\n",
       "      <td>Dark - Lighted</td>\n",
       "      <td>1</td>\n",
       "      <td>1</td>\n",
       "      <td>Friday</td>\n",
       "      <td>6</td>\n",
       "      <td>4</td>\n",
       "    </tr>\n",
       "    <tr>\n",
       "      <th>1</th>\n",
       "      <td>2010</td>\n",
       "      <td>10002</td>\n",
       "      <td>Alabama</td>\n",
       "      <td>31.430447</td>\n",
       "      <td>-86.956694</td>\n",
       "      <td>1</td>\n",
       "      <td>Dark - Lighted</td>\n",
       "      <td>0</td>\n",
       "      <td>1</td>\n",
       "      <td>Monday</td>\n",
       "      <td>2</td>\n",
       "      <td>6</td>\n",
       "    </tr>\n",
       "    <tr>\n",
       "      <th>2</th>\n",
       "      <td>2010</td>\n",
       "      <td>10003</td>\n",
       "      <td>Alabama</td>\n",
       "      <td>30.691631</td>\n",
       "      <td>-88.085778</td>\n",
       "      <td>1</td>\n",
       "      <td>Daylight</td>\n",
       "      <td>0</td>\n",
       "      <td>1</td>\n",
       "      <td>Thursday</td>\n",
       "      <td>5</td>\n",
       "      <td>15</td>\n",
       "    </tr>\n",
       "    <tr>\n",
       "      <th>3</th>\n",
       "      <td>2010</td>\n",
       "      <td>10004</td>\n",
       "      <td>Alabama</td>\n",
       "      <td>33.868700</td>\n",
       "      <td>-86.291164</td>\n",
       "      <td>1</td>\n",
       "      <td>Dark - Lighted</td>\n",
       "      <td>0</td>\n",
       "      <td>1</td>\n",
       "      <td>Thursday</td>\n",
       "      <td>5</td>\n",
       "      <td>1</td>\n",
       "    </tr>\n",
       "    <tr>\n",
       "      <th>4</th>\n",
       "      <td>2010</td>\n",
       "      <td>10005</td>\n",
       "      <td>Alabama</td>\n",
       "      <td>33.309742</td>\n",
       "      <td>-86.787222</td>\n",
       "      <td>1</td>\n",
       "      <td>Dawn</td>\n",
       "      <td>0</td>\n",
       "      <td>1</td>\n",
       "      <td>Monday</td>\n",
       "      <td>2</td>\n",
       "      <td>6</td>\n",
       "    </tr>\n",
       "  </tbody>\n",
       "</table>\n",
       "</div>"
      ],
      "text/plain": [
       "   caseyear  st_case statename   latitude   longitud  fatals    lgt_condname  \\\n",
       "0      2010    10001   Alabama  32.641064 -85.354692       1  Dark - Lighted   \n",
       "1      2010    10002   Alabama  31.430447 -86.956694       1  Dark - Lighted   \n",
       "2      2010    10003   Alabama  30.691631 -88.085778       1        Daylight   \n",
       "3      2010    10004   Alabama  33.868700 -86.291164       1  Dark - Lighted   \n",
       "4      2010    10005   Alabama  33.309742 -86.787222       1            Dawn   \n",
       "\n",
       "   drunk_dr  fatals day_weekname  day_week  hour  \n",
       "0         1       1       Friday         6     4  \n",
       "1         0       1       Monday         2     6  \n",
       "2         0       1     Thursday         5    15  \n",
       "3         0       1     Thursday         5     1  \n",
       "4         0       1       Monday         2     6  "
      ]
     },
     "execution_count": 3,
     "metadata": {},
     "output_type": "execute_result"
    }
   ],
   "source": [
    "###### trim off data to reduce the file as the raw data is huge (>1GB)\n",
    "df = pd.read_csv('data/ACCIDENT.csv')\n",
    "df =df[['caseyear','st_case','statename','latitude','longitud','fatals',\n",
    "        'lgt_condname','drunk_dr','fatals','day_weekname','day_week','hour']]\n",
    "df.to_csv('data/ACCIDENT.csv',index=False)\n",
    "df.head()\n"
   ]
  },
  {
   "cell_type": "code",
   "execution_count": 4,
   "metadata": {},
   "outputs": [
    {
     "data": {
      "text/html": [
       "<div>\n",
       "<style scoped>\n",
       "    .dataframe tbody tr th:only-of-type {\n",
       "        vertical-align: middle;\n",
       "    }\n",
       "\n",
       "    .dataframe tbody tr th {\n",
       "        vertical-align: top;\n",
       "    }\n",
       "\n",
       "    .dataframe thead th {\n",
       "        text-align: right;\n",
       "    }\n",
       "</style>\n",
       "<table border=\"1\" class=\"dataframe\">\n",
       "  <thead>\n",
       "    <tr style=\"text-align: right;\">\n",
       "      <th></th>\n",
       "      <th>caseyear</th>\n",
       "      <th>st_case</th>\n",
       "      <th>statename</th>\n",
       "      <th>drdistract</th>\n",
       "      <th>drdistractname</th>\n",
       "      <th>distract_code</th>\n",
       "    </tr>\n",
       "  </thead>\n",
       "  <tbody>\n",
       "    <tr>\n",
       "      <th>294960</th>\n",
       "      <td>2016</td>\n",
       "      <td>130898</td>\n",
       "      <td>Georgia</td>\n",
       "      <td>98</td>\n",
       "      <td>Other Distraction</td>\n",
       "      <td>98.0</td>\n",
       "    </tr>\n",
       "    <tr>\n",
       "      <th>303258</th>\n",
       "      <td>2016</td>\n",
       "      <td>240453</td>\n",
       "      <td>Maryland</td>\n",
       "      <td>98</td>\n",
       "      <td>Other Distraction</td>\n",
       "      <td>98.0</td>\n",
       "    </tr>\n",
       "    <tr>\n",
       "      <th>58716</th>\n",
       "      <td>2011</td>\n",
       "      <td>130597</td>\n",
       "      <td>Georgia</td>\n",
       "      <td>98</td>\n",
       "      <td>Other Distraction</td>\n",
       "      <td>98.0</td>\n",
       "    </tr>\n",
       "    <tr>\n",
       "      <th>308208</th>\n",
       "      <td>2016</td>\n",
       "      <td>300035</td>\n",
       "      <td>Montana</td>\n",
       "      <td>98</td>\n",
       "      <td>Other Distraction</td>\n",
       "      <td>98.0</td>\n",
       "    </tr>\n",
       "    <tr>\n",
       "      <th>39262</th>\n",
       "      <td>2010</td>\n",
       "      <td>480374</td>\n",
       "      <td>Texas</td>\n",
       "      <td>98</td>\n",
       "      <td>Other Distraction</td>\n",
       "      <td>98.0</td>\n",
       "    </tr>\n",
       "  </tbody>\n",
       "</table>\n",
       "</div>"
      ],
      "text/plain": [
       "        caseyear  st_case statename  drdistract     drdistractname  \\\n",
       "294960      2016   130898   Georgia          98  Other Distraction   \n",
       "303258      2016   240453  Maryland          98  Other Distraction   \n",
       "58716       2011   130597   Georgia          98  Other Distraction   \n",
       "308208      2016   300035   Montana          98  Other Distraction   \n",
       "39262       2010   480374     Texas          98  Other Distraction   \n",
       "\n",
       "        distract_code  \n",
       "294960           98.0  \n",
       "303258           98.0  \n",
       "58716            98.0  \n",
       "308208           98.0  \n",
       "39262            98.0  "
      ]
     },
     "execution_count": 4,
     "metadata": {},
     "output_type": "execute_result"
    }
   ],
   "source": [
    "#trim off data\n",
    "df=pd.read_csv('data/DISTRACT.csv')\n",
    "df=df[['caseyear','st_case','statename','drdistract','drdistractname']]\n",
    "df.loc[df['drdistract']==99,'distract_code']=0.2    #code for unknow\n",
    "df.loc[df['drdistract']==96,'distract_code']=0.5    #code for not reported\n",
    "df.loc[df['drdistract']==16,'distract_code']=0.7    #code for no driver\n",
    "df['distract_code'].fillna(df['drdistract'],inplace=True)\n",
    "#remove duplicate values\n",
    "df=df.sort_values('distract_code',ascending=False)\n",
    "df=df.drop_duplicates(subset=['caseyear','st_case'])\n",
    "df.to_csv('data/DISTRACT.csv',index=False)\n",
    "df.head()\n"
   ]
  },
  {
   "cell_type": "code",
   "execution_count": 5,
   "metadata": {},
   "outputs": [
    {
     "name": "stderr",
     "output_type": "stream",
     "text": [
      "c:\\Users\\datqu\\anaconda3\\envs\\bootcamp\\lib\\site-packages\\IPython\\core\\interactiveshell.py:3457: DtypeWarning: Columns (8,17,19,84,86,88,90,92,94,113,115,117,118,124,128,130) have mixed types.Specify dtype option on import or set low_memory=False.\n",
      "  exec(code_obj, self.user_global_ns, self.user_ns)\n"
     ]
    },
    {
     "data": {
      "text/html": [
       "<div>\n",
       "<style scoped>\n",
       "    .dataframe tbody tr th:only-of-type {\n",
       "        vertical-align: middle;\n",
       "    }\n",
       "\n",
       "    .dataframe tbody tr th {\n",
       "        vertical-align: top;\n",
       "    }\n",
       "\n",
       "    .dataframe thead th {\n",
       "        text-align: right;\n",
       "    }\n",
       "</style>\n",
       "<table border=\"1\" class=\"dataframe\">\n",
       "  <thead>\n",
       "    <tr style=\"text-align: right;\">\n",
       "      <th></th>\n",
       "      <th>caseyear</th>\n",
       "      <th>st_case</th>\n",
       "      <th>age</th>\n",
       "      <th>sexname</th>\n",
       "      <th>per_typ</th>\n",
       "      <th>per_typname</th>\n",
       "      <th>inj_sev</th>\n",
       "      <th>inj_sevname</th>\n",
       "    </tr>\n",
       "  </thead>\n",
       "  <tbody>\n",
       "    <tr>\n",
       "      <th>0</th>\n",
       "      <td>2010</td>\n",
       "      <td>10001</td>\n",
       "      <td>51</td>\n",
       "      <td>Female</td>\n",
       "      <td>1</td>\n",
       "      <td>Driver</td>\n",
       "      <td>4</td>\n",
       "      <td>Fatal Injury (K)</td>\n",
       "    </tr>\n",
       "    <tr>\n",
       "      <th>1</th>\n",
       "      <td>2010</td>\n",
       "      <td>10001</td>\n",
       "      <td>999</td>\n",
       "      <td>Male</td>\n",
       "      <td>2</td>\n",
       "      <td>Passenger</td>\n",
       "      <td>3</td>\n",
       "      <td>Incapacitating Injury (A)</td>\n",
       "    </tr>\n",
       "    <tr>\n",
       "      <th>2</th>\n",
       "      <td>2010</td>\n",
       "      <td>10002</td>\n",
       "      <td>44</td>\n",
       "      <td>Female</td>\n",
       "      <td>1</td>\n",
       "      <td>Driver</td>\n",
       "      <td>4</td>\n",
       "      <td>Fatal Injury (K)</td>\n",
       "    </tr>\n",
       "    <tr>\n",
       "      <th>3</th>\n",
       "      <td>2010</td>\n",
       "      <td>10003</td>\n",
       "      <td>27</td>\n",
       "      <td>Male</td>\n",
       "      <td>1</td>\n",
       "      <td>Driver</td>\n",
       "      <td>4</td>\n",
       "      <td>Fatal Injury (K)</td>\n",
       "    </tr>\n",
       "    <tr>\n",
       "      <th>4</th>\n",
       "      <td>2010</td>\n",
       "      <td>10003</td>\n",
       "      <td>45</td>\n",
       "      <td>Female</td>\n",
       "      <td>1</td>\n",
       "      <td>Driver</td>\n",
       "      <td>0</td>\n",
       "      <td>No Injury (O)</td>\n",
       "    </tr>\n",
       "  </tbody>\n",
       "</table>\n",
       "</div>"
      ],
      "text/plain": [
       "   caseyear  st_case  age sexname  per_typ per_typname  inj_sev  \\\n",
       "0      2010    10001   51  Female        1      Driver        4   \n",
       "1      2010    10001  999    Male        2   Passenger        3   \n",
       "2      2010    10002   44  Female        1      Driver        4   \n",
       "3      2010    10003   27    Male        1      Driver        4   \n",
       "4      2010    10003   45  Female        1      Driver        0   \n",
       "\n",
       "                 inj_sevname  \n",
       "0           Fatal Injury (K)  \n",
       "1  Incapacitating Injury (A)  \n",
       "2           Fatal Injury (K)  \n",
       "3           Fatal Injury (K)  \n",
       "4              No Injury (O)  "
      ]
     },
     "execution_count": 5,
     "metadata": {},
     "output_type": "execute_result"
    }
   ],
   "source": [
    "#trim off data\n",
    "df=pd.read_csv('data/PERSON.csv')\n",
    "df=df[['caseyear','st_case','age','sexname','per_typ','per_typname','inj_sev','inj_sevname']]\n",
    "#only take people inside in-transport vehicle in crash\n",
    "df=df.loc[(df['per_typname']=='Unknown Occupant Type in a Motor Vehicle In- Transport') |\n",
    "       (df['per_typname']=='Driver of a Motor Vehicle In-Transport') |\n",
    "       (df['per_typname']=='Passenger of a Motor Vehicle In-Transport'),:]\n",
    "#replace the term for readability\n",
    "df.replace({'Driver of a Motor Vehicle In-Transport':'Driver',\n",
    "            'Passenger of a Motor Vehicle In-Transport':'Passenger',\n",
    "            'Unknown Occupant Type in a Motor Vehicle In- Transport':'Unknown'},inplace=True)\n",
    "df.to_csv('data/PERSON.csv',index=False)\n",
    "df.head()"
   ]
  },
  {
   "cell_type": "code",
   "execution_count": 6,
   "metadata": {},
   "outputs": [
    {
     "name": "stderr",
     "output_type": "stream",
     "text": [
      "c:\\Users\\datqu\\anaconda3\\envs\\bootcamp\\lib\\site-packages\\IPython\\core\\interactiveshell.py:3457: DtypeWarning: Columns (7,14,44,57,58,59,60,61,62,69,71,74,112,114,141,159,161,163,165,202,204,206,214,216,218,220,222,224,226,228,230,232) have mixed types.Specify dtype option on import or set low_memory=False.\n",
      "  exec(code_obj, self.user_global_ns, self.user_ns)\n"
     ]
    },
    {
     "data": {
      "text/html": [
       "<div>\n",
       "<style scoped>\n",
       "    .dataframe tbody tr th:only-of-type {\n",
       "        vertical-align: middle;\n",
       "    }\n",
       "\n",
       "    .dataframe tbody tr th {\n",
       "        vertical-align: top;\n",
       "    }\n",
       "\n",
       "    .dataframe thead th {\n",
       "        text-align: right;\n",
       "    }\n",
       "</style>\n",
       "<table border=\"1\" class=\"dataframe\">\n",
       "  <thead>\n",
       "    <tr style=\"text-align: right;\">\n",
       "      <th></th>\n",
       "      <th>caseyear</th>\n",
       "      <th>st_case</th>\n",
       "      <th>speedrel</th>\n",
       "      <th>speedrelname</th>\n",
       "    </tr>\n",
       "  </thead>\n",
       "  <tbody>\n",
       "    <tr>\n",
       "      <th>0</th>\n",
       "      <td>2010</td>\n",
       "      <td>10001</td>\n",
       "      <td>0.0</td>\n",
       "      <td>No</td>\n",
       "    </tr>\n",
       "    <tr>\n",
       "      <th>1</th>\n",
       "      <td>2010</td>\n",
       "      <td>10002</td>\n",
       "      <td>0.0</td>\n",
       "      <td>No</td>\n",
       "    </tr>\n",
       "    <tr>\n",
       "      <th>2</th>\n",
       "      <td>2010</td>\n",
       "      <td>10003</td>\n",
       "      <td>1.0</td>\n",
       "      <td>Yes</td>\n",
       "    </tr>\n",
       "    <tr>\n",
       "      <th>3</th>\n",
       "      <td>2010</td>\n",
       "      <td>10003</td>\n",
       "      <td>0.0</td>\n",
       "      <td>No</td>\n",
       "    </tr>\n",
       "    <tr>\n",
       "      <th>4</th>\n",
       "      <td>2010</td>\n",
       "      <td>10003</td>\n",
       "      <td>0.0</td>\n",
       "      <td>No</td>\n",
       "    </tr>\n",
       "  </tbody>\n",
       "</table>\n",
       "</div>"
      ],
      "text/plain": [
       "   caseyear  st_case  speedrel speedrelname\n",
       "0      2010    10001       0.0           No\n",
       "1      2010    10002       0.0           No\n",
       "2      2010    10003       1.0          Yes\n",
       "3      2010    10003       0.0           No\n",
       "4      2010    10003       0.0           No"
      ]
     },
     "execution_count": 6,
     "metadata": {},
     "output_type": "execute_result"
    }
   ],
   "source": [
    "df=pd.read_csv('data/VEHICLE.csv')\n",
    "df=df[['caseyear','st_case','speedrel',\t'speedrelname']]\n",
    "df.to_csv('data/VEHICLE.csv')\n",
    "df.head()"
   ]
  },
  {
   "cell_type": "code",
   "execution_count": 7,
   "metadata": {},
   "outputs": [
    {
     "name": "stderr",
     "output_type": "stream",
     "text": [
      "c:\\Users\\datqu\\anaconda3\\envs\\bootcamp\\lib\\site-packages\\IPython\\core\\interactiveshell.py:3457: DtypeWarning: Columns (6,8) have mixed types.Specify dtype option on import or set low_memory=False.\n",
      "  exec(code_obj, self.user_global_ns, self.user_ns)\n"
     ]
    },
    {
     "data": {
      "text/html": [
       "<div>\n",
       "<style scoped>\n",
       "    .dataframe tbody tr th:only-of-type {\n",
       "        vertical-align: middle;\n",
       "    }\n",
       "\n",
       "    .dataframe tbody tr th {\n",
       "        vertical-align: top;\n",
       "    }\n",
       "\n",
       "    .dataframe thead th {\n",
       "        text-align: right;\n",
       "    }\n",
       "</style>\n",
       "<table border=\"1\" class=\"dataframe\">\n",
       "  <thead>\n",
       "    <tr style=\"text-align: right;\">\n",
       "      <th></th>\n",
       "      <th>caseyear</th>\n",
       "      <th>st_case</th>\n",
       "      <th>statename</th>\n",
       "      <th>violation</th>\n",
       "      <th>violationname</th>\n",
       "    </tr>\n",
       "  </thead>\n",
       "  <tbody>\n",
       "    <tr>\n",
       "      <th>0</th>\n",
       "      <td>2010</td>\n",
       "      <td>10001</td>\n",
       "      <td>Alabama</td>\n",
       "      <td>0.0</td>\n",
       "      <td>None</td>\n",
       "    </tr>\n",
       "    <tr>\n",
       "      <th>1</th>\n",
       "      <td>2010</td>\n",
       "      <td>10002</td>\n",
       "      <td>Alabama</td>\n",
       "      <td>0.0</td>\n",
       "      <td>None</td>\n",
       "    </tr>\n",
       "    <tr>\n",
       "      <th>2</th>\n",
       "      <td>2010</td>\n",
       "      <td>10003</td>\n",
       "      <td>Alabama</td>\n",
       "      <td>0.0</td>\n",
       "      <td>None</td>\n",
       "    </tr>\n",
       "    <tr>\n",
       "      <th>3</th>\n",
       "      <td>2010</td>\n",
       "      <td>10003</td>\n",
       "      <td>Alabama</td>\n",
       "      <td>0.0</td>\n",
       "      <td>None</td>\n",
       "    </tr>\n",
       "    <tr>\n",
       "      <th>4</th>\n",
       "      <td>2010</td>\n",
       "      <td>10003</td>\n",
       "      <td>Alabama</td>\n",
       "      <td>0.0</td>\n",
       "      <td>None</td>\n",
       "    </tr>\n",
       "  </tbody>\n",
       "</table>\n",
       "</div>"
      ],
      "text/plain": [
       "   caseyear  st_case statename  violation violationname\n",
       "0      2010    10001   Alabama        0.0          None\n",
       "1      2010    10002   Alabama        0.0          None\n",
       "2      2010    10003   Alabama        0.0          None\n",
       "3      2010    10003   Alabama        0.0          None\n",
       "4      2010    10003   Alabama        0.0          None"
      ]
     },
     "execution_count": 7,
     "metadata": {},
     "output_type": "execute_result"
    }
   ],
   "source": [
    "#trim off data\n",
    "df=pd.read_csv('data/VIOLATION.csv')\n",
    "#fill NA value\n",
    "df['violation'].fillna(df['mviolatn'],inplace=True)\n",
    "df['violationname'].fillna(df['mviolatnname'],inplace=True)\n",
    "df=df[['caseyear','st_case','statename','violation','violationname']]\n",
    "df.to_csv('data/VIOLATION.csv',index=False)\n",
    "df.head()"
   ]
  }
 ],
 "metadata": {
  "kernelspec": {
   "display_name": "Python 3.7.13 ('bootcamp')",
   "language": "python",
   "name": "python3"
  },
  "language_info": {
   "codemirror_mode": {
    "name": "ipython",
    "version": 3
   },
   "file_extension": ".py",
   "mimetype": "text/x-python",
   "name": "python",
   "nbconvert_exporter": "python",
   "pygments_lexer": "ipython3",
   "version": "3.7.13"
  },
  "orig_nbformat": 4,
  "vscode": {
   "interpreter": {
    "hash": "a7c284f6c3454d9296f827a682b0575908dd97079acfefde70d6f996863eb3eb"
   }
  }
 },
 "nbformat": 4,
 "nbformat_minor": 2
}
